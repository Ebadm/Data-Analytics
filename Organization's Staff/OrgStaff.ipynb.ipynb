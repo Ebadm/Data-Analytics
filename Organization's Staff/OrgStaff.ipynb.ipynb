{
 "cells": [
  {
   "cell_type": "markdown",
   "metadata": {},
   "source": [
    "## Question 1 - B:"
   ]
  },
  {
   "cell_type": "markdown",
   "metadata": {},
   "source": [
    "#### Chart Number 1:  Average Survey results and Satisfaction scores at each Unit at the organization"
   ]
  },
  {
   "cell_type": "code",
   "execution_count": 19,
   "metadata": {},
   "outputs": [],
   "source": [
    "import pandas as pd\n",
    "import numpy as np\n",
    "\n",
    "raw_df = pd.read_csv(\"TMA_Data.csv\")\n",
    "df = raw_df.filter(['Unit', 'Survey', 'Satisfaction'])"
   ]
  },
  {
   "cell_type": "code",
   "execution_count": 20,
   "metadata": {},
   "outputs": [
    {
     "name": "stdout",
     "output_type": "stream",
     "text": [
      "               Satisfaction    Survey\n",
      "Unit                                 \n",
      "Admin              3.571429  4.642857\n",
      "Engineering        4.200000  4.048000\n",
      "IT                 4.048780  4.237317\n",
      "Manufacturing      3.893491  4.184320\n",
      "Sales              4.181818  3.990455\n"
     ]
    },
    {
     "name": "stderr",
     "output_type": "stream",
     "text": [
      "C:\\Users\\Hp\\AppData\\Local\\Temp\\ipykernel_12144\\1698776536.py:1: FutureWarning: Indexing with multiple keys (implicitly converted to a tuple of keys) will be deprecated, use a list instead.\n",
      "  grouped_df = df.groupby('Unit')['Satisfaction','Survey'].mean() #Group by Units and get Mean of Satisfaction & Survey Columns of these groups\n"
     ]
    }
   ],
   "source": [
    "grouped_df = df.groupby('Unit')['Satisfaction','Survey'].mean() #Group by Units and get Mean of Satisfaction & Survey Columns of these groups\n",
    "grouped_df  = grouped_df.drop(grouped_df.index[[1]])        #Drop C-Level Since Sample too small ( < 2)\n",
    "print(grouped_df)   "
   ]
  },
  {
   "cell_type": "code",
   "execution_count": 21,
   "metadata": {},
   "outputs": [
    {
     "data": {
      "text/plain": [
       "<AxesSubplot:title={'center':'Satisfaction score per Units'}, xlabel='Unit', ylabel='Average Score'>"
      ]
     },
     "execution_count": 21,
     "metadata": {},
     "output_type": "execute_result"
    },
    {
     "data": {
      "image/png": "[encoded data removed]",
      "text/plain": [
       "<Figure size 720x432 with 1 Axes>"
      ]
     },
     "metadata": {
      "needs_background": "light"
     },
     "output_type": "display_data"
    }
   ],
   "source": [
    "grouped_df.plot(kind='bar', title='Satisfaction score per Units',\n",
    "               ylabel='Average Score', xlabel='Unit', figsize=(10, 6), yticks = [0,0.5,1,1.5,2,2.5,3,3.5,4,4.5,5])"
   ]
  },
  {
   "cell_type": "markdown",
   "metadata": {},
   "source": [
    "#### Chart Number 2:  Number of days of absence in the previous year relative to the Marital Status"
   ]
  },
  {
   "cell_type": "code",
   "execution_count": 22,
   "metadata": {},
   "outputs": [],
   "source": [
    "import pandas as pd\n",
    "import numpy as np\n",
    "\n",
    "raw_df = pd.read_csv(\"TMA_Data.csv\")\n",
    "df = raw_df.filter(['Marital', 'Absence'])"
   ]
  },
  {
   "cell_type": "code",
   "execution_count": 23,
   "metadata": {},
   "outputs": [
    {
     "name": "stdout",
     "output_type": "stream",
     "text": [
      "Marital\n",
      "Divorced     9.576923\n",
      "Married     11.095745\n",
      "Others       8.875000\n",
      "Single      10.035088\n",
      "Name: Absence, dtype: float64\n"
     ]
    }
   ],
   "source": [
    "grouped_df = df.groupby('Marital')['Absence'].mean()        #Group by Units and get Mean of Satisfaction & Survey Columns of these groups\n",
    "print(grouped_df)                                           #Summarised Table"
   ]
  },
  {
   "cell_type": "code",
   "execution_count": 24,
   "metadata": {},
   "outputs": [
    {
     "data": {
      "text/plain": [
       "<AxesSubplot:title={'center':'Average Absence by Marital Status'}, ylabel='Marital Status'>"
      ]
     },
     "execution_count": 24,
     "metadata": {},
     "output_type": "execute_result"
    },
    {
     "data": {
      "image/png": "[encoded data removed]",
      "text/plain": [
       "<Figure size 720x432 with 1 Axes>"
      ]
     },
     "metadata": {
      "needs_background": "light"
     },
     "output_type": "display_data"
    }
   ],
   "source": [
    "grouped_df.plot(kind='barh', title='Average Absence by Marital Status',\n",
    "               ylabel='Average Absence', xlabel='Marital Status', figsize=(10, 6))"
   ]
  },
  {
   "cell_type": "markdown",
   "metadata": {},
   "source": [
    "## Question 1 - C:"
   ]
  },
  {
   "cell_type": "code",
   "execution_count": 25,
   "metadata": {},
   "outputs": [],
   "source": [
    "import pandas as pd\n",
    "import numpy as np\n",
    "\n",
    "raw_df = pd.read_csv(\"TMA_Data.csv\")\n",
    "df = raw_df.filter(['Staff', 'JoinDate', 'LeftDate'])"
   ]
  },
  {
   "cell_type": "code",
   "execution_count": 26,
   "metadata": {},
   "outputs": [],
   "source": [
    "default_leftDate = '5/1/2022'\n",
    "df['LeftDate'].fillna(value = default_leftDate,inplace = True)"
   ]
  },
  {
   "cell_type": "code",
   "execution_count": 27,
   "metadata": {},
   "outputs": [
    {
     "name": "stdout",
     "output_type": "stream",
     "text": [
      "Maximum Length of Service (In Years):  16.3\n",
      "Minimum Length of Service (In Years):  0.1\n",
      "Average Length of Service (In Years):  6.8\n"
     ]
    }
   ],
   "source": [
    "from datetime import datetime\n",
    "\n",
    "def calc_serviceTime(a,b):\n",
    "    D_a = datetime.strptime(a, \"%m/%d/%Y\")\n",
    "    D_b = datetime.strptime(b, \"%m/%d/%Y\")\n",
    "    diff_days= abs((D_a - D_b).days)\n",
    "    return diff_days/365\n",
    "\n",
    "\n",
    "df['Length of Service']  = df.apply(lambda f: calc_serviceTime(f['JoinDate'],f['LeftDate']), axis=1)\n",
    "\n",
    "max_Service = round(df['Length of Service'].max(),1)\n",
    "min_Service = round(df['Length of Service'].min(),1)\n",
    "mean_Service = round(df['Length of Service'].mean(),1)\n",
    "\n",
    "print(\"Maximum Length of Service (In Years): \", max_Service)\n",
    "print(\"Minimum Length of Service (In Years): \", min_Service)\n",
    "print(\"Average Length of Service (In Years): \", mean_Service)"
   ]
  },
  {
   "cell_type": "markdown",
   "metadata": {},
   "source": [
    "## Question 1 - D:"
   ]
  },
  {
   "cell_type": "code",
   "execution_count": 28,
   "metadata": {},
   "outputs": [],
   "source": [
    "import pandas as pd\n",
    "import numpy as np\n",
    "\n",
    "raw_df = pd.read_csv(\"TMA_Data.csv\")\n",
    "df = raw_df.filter(['Staff'])"
   ]
  },
  {
   "cell_type": "code",
   "execution_count": 30,
   "metadata": {},
   "outputs": [
    {
     "name": "stdout",
     "output_type": "stream",
     "text": [
      "Welcome to Employee Query System, Input Full Name to Query, 0 to Quit\n",
      "Yes, Alena Galvan is found in the organization’s records\n",
      "Welcome to Employee Query System, Input Full Name to Query, 0 to Quit\n",
      "No, Joe Doe is NOT found in the organization’s records\n",
      "Welcome to Employee Query System, Input Full Name to Query, 0 to Quit\n",
      "Quitting the Employee Query System\n"
     ]
    }
   ],
   "source": [
    "input_Prompt = \"Welcome to Employee Query System, Input Full Name to Query, 0 to Quit\"\n",
    "\n",
    "while(True):\n",
    "    print(input_Prompt)\n",
    "    Query = input(\"Please input the Full Name of the Employee (0 to Quit): \")\n",
    "    if (Query == \"0\"):\n",
    "        print(\"Quitting the Employee Query System\")\n",
    "        break\n",
    "    if Query in df[\"Staff\"].values:\n",
    "        print(\"Yes,\" , Query , \"is found in the organization’s records\")\n",
    "    else:\n",
    "        print(\"No,\" , Query , \"is NOT found in the organization’s records\")"
   ]
  }
 ],
 "metadata": {
  "kernelspec": {
   "display_name": "Python 3.10.6 64-bit (windows store)",
   "language": "python",
   "name": "python3"
  },
  "language_info": {
   "codemirror_mode": {
    "name": "ipython",
    "version": 3
   },
   "file_extension": ".py",
   "mimetype": "text/x-python",
   "name": "python",
   "nbconvert_exporter": "python",
   "pygments_lexer": "ipython3",
   "version": "3.10.10"
  },
  "orig_nbformat": 4,
  "vscode": {
   "interpreter": {
    "hash": "a97dfee85535fb1d5b47fe9558cac8ab9061198b8187c5e3fe351ac320e8c61d"
   }
  }
 },
 "nbformat": 4,
 "nbformat_minor": 2
}
